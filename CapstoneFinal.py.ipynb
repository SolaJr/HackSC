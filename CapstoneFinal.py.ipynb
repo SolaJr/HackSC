{
 "cells": [
  {
   "cell_type": "code",
   "execution_count": 1,
   "metadata": {
    "collapsed": false
   },
   "outputs": [
    {
     "ename": "ImportError",
     "evalue": "cannot import name 'language'",
     "output_type": "error",
     "traceback": [
      "\u001b[0;31m---------------------------------------------------------------------------\u001b[0m",
      "\u001b[0;31mImportError\u001b[0m                               Traceback (most recent call last)",
      "\u001b[0;32m<ipython-input-1-7193a46b5b2e>\u001b[0m in \u001b[0;36m<module>\u001b[0;34m\u001b[0m\n\u001b[1;32m      3\u001b[0m \u001b[0;32mimport\u001b[0m \u001b[0mjson\u001b[0m\u001b[0;34m\u001b[0m\u001b[0;34m\u001b[0m\u001b[0m\n\u001b[1;32m      4\u001b[0m \u001b[0;34m\u001b[0m\u001b[0m\n\u001b[0;32m----> 5\u001b[0;31m \u001b[0;32mfrom\u001b[0m \u001b[0mgoogle\u001b[0m\u001b[0;34m.\u001b[0m\u001b[0mcloud\u001b[0m \u001b[0;32mimport\u001b[0m \u001b[0mlanguage\u001b[0m\u001b[0;34m\u001b[0m\u001b[0;34m\u001b[0m\u001b[0m\n\u001b[0m\u001b[1;32m      6\u001b[0m \u001b[0;32mfrom\u001b[0m \u001b[0mgoogle\u001b[0m\u001b[0;34m.\u001b[0m\u001b[0moauth2\u001b[0m \u001b[0;32mimport\u001b[0m \u001b[0mservice_account\u001b[0m\u001b[0;34m\u001b[0m\u001b[0;34m\u001b[0m\u001b[0m\n\u001b[1;32m      7\u001b[0m \u001b[0;32mfrom\u001b[0m \u001b[0mgoogle\u001b[0m\u001b[0;34m.\u001b[0m\u001b[0mcloud\u001b[0m\u001b[0;34m.\u001b[0m\u001b[0mlanguage\u001b[0m \u001b[0;32mimport\u001b[0m \u001b[0menums\u001b[0m\u001b[0;34m\u001b[0m\u001b[0;34m\u001b[0m\u001b[0m\n",
      "\u001b[0;31mImportError\u001b[0m: cannot import name 'language'"
     ]
    }
   ],
   "source": [
    "# Import needed libraries\n",
    "import requests\n",
    "import json\n",
    "\n",
    "from google.cloud import language\n",
    "from google.oauth2 import service_account\n",
    "from google.cloud.language import enums\n",
    "from google.cloud.language import types\n"
   ]
  },
  {
   "cell_type": "code",
   "execution_count": 0,
   "metadata": {
    "collapsed": false
   },
   "outputs": [
   ],
   "source": [
    "# Build language API client (requires service account key)\n",
    "client = language.LanguageServiceClient.from_service_account_json('services.json')\n"
   ]
  },
  {
   "cell_type": "code",
   "execution_count": 3,
   "metadata": {
    "collapsed": false
   },
   "outputs": [
    {
     "ename": "IndentationError",
     "evalue": "expected an indented block (<ipython-input-3-75d2012a1943>, line 5)",
     "output_type": "error",
     "traceback": [
      "\u001b[0;36m  File \u001b[0;32m\"<ipython-input-3-75d2012a1943>\"\u001b[0;36m, line \u001b[0;32m5\u001b[0m\n\u001b[0;31m    return None\u001b[0m\n\u001b[0m         ^\u001b[0m\n\u001b[0;31mIndentationError\u001b[0m\u001b[0;31m:\u001b[0m expected an indented block\n"
     ]
    }
   ],
   "source": [
    "# Define functions\n",
    "def pull_googlenlp(client, url, invalid_types = ['OTHER'], **data):\n",
    "        html = load_text_from_url(url, **data)\n",
    "        if not html:\n",
    "        return None\n",
    "# Define the function type of docutments. This way you can take the data and return it to an html file \n",
    "        document = types.Document(\n",
    "        content=html,\n",
    "        type=language.enums.Document.Type.HTML )\n",
    "#Select the features you would like to use \n",
    "        features = {'extract_syntax': True,\n",
    "                'extract_entities': True,\n",
    "                'extract_document_sentiment': True,\n",
    "                'extract_entity_sentiment': True,\n",
    "                'classify_text': False\n",
    "                }\n",
    "#Take the information that is entered ( which is stored in response ) \n",
    "        response = client.annotate_text(document=document, features=features)\n",
    "#define sentiment and entries\n",
    "        sentiment = response.document_sentiment\n",
    "        entities = response.entities\n",
    "#Classify the data entered by a user in their custom journal to classify data based on the 5 features you applied as true\n",
    "        response = client.classify_text(document)\n",
    "        categories = response.categories\n",
    "#Return the classification data \n",
    "        def get_type(type):\n",
    "        return client.enums.Entity.Type(entity.type).name\n",
    "#Make an array for results to store\n",
    "        result = {}\n",
    "\n",
    "        result['sentiment'] = []    \n",
    "        result['entities'] = []\n",
    "        result['categories'] = []\n",
    "#Based on the sentiment being populated with any value ( against its initial null value ) find the given magintude and score of the string data entered\n",
    "        if sentiment:\n",
    "        result['sentiment'] = [{ 'magnitude': sentiment.magnitude, 'score':sentiment.score }]\n",
    "#Other data that you can idenify if you like but not used in the final version of this project\n",
    "        for entity in entities:\n",
    "        if get_type(entity.type) not in invalid_types:\n",
    "                result['entities'].append({'name': entity.name, 'type': get_type(entity.type), 'salience': entity.salience, 'wikipedia_url': entity.metadata.get('wikipedia_url', '-')  })\n",
    "# confidence was used for testing the accuracy of my model \n",
    "        for category in categories:\n",
    "        result['categories'].append({'name':category.name, 'confidence': category.confidence})\n",
    "\n",
    "        return result"
   ]
  },
  {
   "cell_type": "code",
   "execution_count": 4,
   "metadata": {
    "collapsed": false
   },
   "outputs": [
    {
     "ename": "IndentationError",
     "evalue": "unexpected indent (<ipython-input-4-cd3c61365391>, line 3)",
     "output_type": "error",
     "traceback": [
      "\u001b[0;36m  File \u001b[0;32m\"<ipython-input-4-cd3c61365391>\"\u001b[0;36m, line \u001b[0;32m3\u001b[0m\n\u001b[0;31m    timeout = data.get('timeout', 20)\u001b[0m\n\u001b[0m    ^\u001b[0m\n\u001b[0;31mIndentationError\u001b[0m\u001b[0;31m:\u001b[0m unexpected indent\n"
     ]
    }
   ],
   "source": [
    "# How text is loaded into Javascript from Python def load_text_from_url(url, **data):\n",
    "\n",
    "        timeout = data.get('timeout', 20)\n",
    "   \n",
    "        results = []\n",
    "   \n",
    "        try:\n",
    "         \n",
    "        print(\"Extracting text from: {}\".format(url))\n",
    "        response = requests.get(url, timeout=timeout)\n",
    "\n",
    "        text = response.text\n",
    "        status = response.status_code\n",
    "\n",
    "        if status == 200 and len(text) > 0:\n",
    "                return text\n",
    "         \n",
    "        return None\n",
    "         \n",
    "\n",
    "        except Exception as e:\n",
    "        print('Problem with url: {0}.'.format(url))\n",
    "        return None\n"
   ]
  },
  {
   "cell_type": "code",
   "execution_count": 0,
   "metadata": {
    "collapsed": false
   },
   "outputs": [
   ],
   "source": [
   ]
  }
 ],
 "metadata": {
  "kernelspec": {
   "display_name": "Python 3 (system-wide)",
   "language": "python",
   "metadata": {
    "cocalc": {
     "description": "Python 3 programming language",
     "priority": 100,
     "url": "https://www.python.org/"
    }
   },
   "name": "python3"
  },
  "language_info": {
   "codemirror_mode": {
    "name": "ipython",
    "version": 3
   },
   "file_extension": ".py",
   "mimetype": "text/x-python",
   "name": "python",
   "nbconvert_exporter": "python",
   "pygments_lexer": "ipython3",
   "version": "3.6.9"
  }
 },
 "nbformat": 4,
 "nbformat_minor": 4
}